{
 "cells": [
  {
   "cell_type": "markdown",
   "metadata": {
    "collapsed": false,
    "pycharm": {
     "name": "#%% md\n"
    }
   },
   "source": [
    "# Example 2: Pseudoscientific Content Detection Classifier Usage"
   ]
  },
  {
   "cell_type": "code",
   "execution_count": null,
   "metadata": {},
   "outputs": [],
   "source": [
    "# Auto Reload any changes in scripts\n",
    "%reload_ext autoreload\n",
    "%autoreload 2"
   ]
  },
  {
   "cell_type": "code",
   "execution_count": null,
   "metadata": {
    "collapsed": true
   },
   "outputs": [],
   "source": [
    "import os\n",
    "os.chdir('../')\n",
    "\n",
    "# Import the Pseudoscientific Videos Detection package\n",
    "from pseudoscientificvideosdetection.PseudoscienceClassifier import PseudoscienceClassifier\n",
    "from youtubehelpers.YouTubeVideoDownloader import YouTubeVideoDownloader"
   ]
  },
  {
   "cell_type": "markdown",
   "metadata": {
    "collapsed": false,
    "pycharm": {
     "name": "#%% md\n"
    }
   },
   "source": [
    "## Step 1. Create a Classifier Object"
   ]
  },
  {
   "cell_type": "code",
   "execution_count": null,
   "metadata": {
    "collapsed": false,
    "pycharm": {
     "name": "#%%\n"
    }
   },
   "outputs": [],
   "source": [
    "# Create an object of the classifier\n",
    "pseudoscienceClassifier = PseudoscienceClassifier()"
   ]
  },
  {
   "cell_type": "markdown",
   "metadata": {
    "collapsed": false,
    "pycharm": {
     "name": "#%% md\n"
    }
   },
   "source": [
    "## Step 2. Download Video Information\n",
    "We implement a class that includes all the required methods to download all the necessary information of a YouTube video required for the classification of this video (snippet, tags, transcript, comments).\n",
    "When create a YouTube downloader object, you need to provide your own YouTube Data API key."
   ]
  },
  {
   "cell_type": "code",
   "execution_count": null,
   "metadata": {
    "collapsed": false,
    "pycharm": {
     "name": "#%%\n"
    }
   },
   "outputs": [],
   "source": [
    "# Create a YouTube Downloader Object\n",
    "ytDownloader = YouTubeVideoDownloader()\n",
    "\n",
    "# Download YouTube Video Details\n",
    "# Note: You can replace the following line with your own method that creates the\n",
    "#       dictionary with the video details. See YouTubeVideoDownloader class to\n",
    "#       understand the format in which we convert the comments and the transcript\n",
    "#       of the video before we pass them to the classifier\n",
    "video_details = ytDownloader.download_video(video_id='YOUTUBE_VIDEO_ID')"
   ]
  },
  {
   "cell_type": "markdown",
   "metadata": {
    "collapsed": false,
    "pycharm": {
     "name": "#%% md\n"
    }
   },
   "source": [
    "## Step 3. Classify Video"
   ]
  },
  {
   "cell_type": "code",
   "execution_count": null,
   "metadata": {
    "collapsed": false,
    "pycharm": {
     "name": "#%%\n"
    }
   },
   "outputs": [],
   "source": [
    "# Make a prediction (classify video)\n",
    "prediction, confidence_score = pseudoscienceClassifier.classify(video_details=video_details)\n",
    "\n",
    "prediction, confidence_score"
   ]
  }
 ],
 "metadata": {
  "kernelspec": {
   "display_name": "Python 3.8.5 ('virtualenv': venv)",
   "language": "python",
   "name": "python3"
  },
  "language_info": {
   "codemirror_mode": {
    "name": "ipython",
    "version": 3
   },
   "file_extension": ".py",
   "mimetype": "text/x-python",
   "name": "python",
   "nbconvert_exporter": "python",
   "pygments_lexer": "ipython3",
   "version": "3.8.5"
  },
  "vscode": {
   "interpreter": {
    "hash": "7e6bbca6b4c4401617a432cdd64c9a4f94bc5e14c8b012aa31c676a2ffb8ef21"
   }
  }
 },
 "nbformat": 4,
 "nbformat_minor": 0
}
