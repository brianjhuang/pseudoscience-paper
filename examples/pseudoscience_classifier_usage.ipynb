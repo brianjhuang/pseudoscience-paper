{
 "cells": [
  {
   "cell_type": "markdown",
   "source": [
    "# Example 2: Pseudoscientific Content Detection Classifier Usage"
   ],
   "metadata": {
    "collapsed": false,
    "pycharm": {
     "name": "#%% md\n"
    }
   }
  },
  {
   "cell_type": "code",
   "execution_count": null,
   "metadata": {
    "collapsed": true
   },
   "outputs": [],
   "source": [
    "import os\n",
    "os.chdir('../')\n",
    "\n",
    "# Import the Pseudoscientific Videos Detection package\n",
    "from pseudoscientificvideosdetection.PseudoscienceClassifier import PseudoscienceClassifier\n",
    "from youtubehelpers.YouTubeVideoDownloader import YouTubeVideoDownloader"
   ]
  },
  {
   "cell_type": "markdown",
   "source": [
    "## Step 1. Create a Classifier Object"
   ],
   "metadata": {
    "collapsed": false,
    "pycharm": {
     "name": "#%% md\n"
    }
   }
  },
  {
   "cell_type": "code",
   "execution_count": null,
   "outputs": [],
   "source": [
    "# Create an object of the classifier\n",
    "pseudoscienceClassifier = PseudoscienceClassifier()"
   ],
   "metadata": {
    "collapsed": false,
    "pycharm": {
     "name": "#%%\n"
    }
   }
  },
  {
   "cell_type": "markdown",
   "source": [
    "## Step 2. Download Video Information\n",
    "We implement a class that includes all the required methods to download all the necessary information of a YouTube video required for the classification of this video (snippet, tags, transcript, comments).\n",
    "When create a YouTube downloader object, you need to provide your own YouTube Data API key."
   ],
   "metadata": {
    "collapsed": false,
    "pycharm": {
     "name": "#%% md\n"
    }
   }
  },
  {
   "cell_type": "code",
   "execution_count": null,
   "outputs": [],
   "source": [
    "# Create a YouTube Downloader Object\n",
    "ytDownloader = YouTubeVideoDownloader()\n",
    "\n",
    "# Download YouTube Video Details\n",
    "# Note: You can replace the following line with your own method that creates the\n",
    "#       dictionary with the video details. See YouTubeVideoDownloader class to\n",
    "#       understand the format in which we convert the comments and the transcript\n",
    "#       of the video before we pass them to the classifier\n",
    "video_details = ytDownloader.download_video(video_id='YOUTUBE_VIDEO_ID')"
   ],
   "metadata": {
    "collapsed": false,
    "pycharm": {
     "name": "#%%\n"
    }
   }
  },
  {
   "cell_type": "markdown",
   "source": [
    "## Step 3. Classify Video"
   ],
   "metadata": {
    "collapsed": false,
    "pycharm": {
     "name": "#%% md\n"
    }
   }
  },
  {
   "cell_type": "code",
   "execution_count": null,
   "outputs": [],
   "source": [
    "# Make a prediction (classify video)\n",
    "prediction, confidence_score = pseudoscienceClassifier.classify(video_details=video_details)\n",
    "\n",
    "print(prediction)\n",
    "print(confidence_score)"
   ],
   "metadata": {
    "collapsed": false,
    "pycharm": {
     "name": "#%%\n"
    }
   }
  }
 ],
 "metadata": {
  "kernelspec": {
   "display_name": "Python 2",
   "language": "python",
   "name": "python2"
  },
  "language_info": {
   "codemirror_mode": {
    "name": "ipython",
    "version": 2
   },
   "file_extension": ".py",
   "mimetype": "text/x-python",
   "name": "python",
   "nbconvert_exporter": "python",
   "pygments_lexer": "ipython2",
   "version": "2.7.6"
  }
 },
 "nbformat": 4,
 "nbformat_minor": 0
}