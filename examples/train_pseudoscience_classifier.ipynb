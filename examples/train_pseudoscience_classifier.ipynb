{
 "cells": [
  {
   "cell_type": "markdown",
   "metadata": {
    "collapsed": false,
    "pycharm": {
     "name": "#%% md\n"
    }
   },
   "source": [
    "# Example 1: Training the Pseudoscientific Videos Detection Classifier"
   ]
  },
  {
   "cell_type": "code",
   "execution_count": null,
   "metadata": {},
   "outputs": [],
   "source": [
    "%reload_ext autoreload\n",
    "%autoreload 2"
   ]
  },
  {
   "cell_type": "code",
   "execution_count": null,
   "metadata": {
    "collapsed": false,
    "pycharm": {
     "name": "#%%\n"
    }
   },
   "outputs": [],
   "source": [
    "import os\n",
    "os.chdir('../')\n",
    "\n",
    "from dataset.DatasetUtils import DatasetUtils\n",
    "from classifier.featureengineering.FeatureEngineeringModels import FeatureEngineeringModels\n",
    "from classifier.training.ClassifierTraining import ClassifierTraining\n",
    "\n",
    "# Create Objects\n",
    "dataset = DatasetUtils()\n",
    "featureEngineeringModels = FeatureEngineeringModels(dataset_object=dataset)"
   ]
  },
  {
   "cell_type": "markdown",
   "metadata": {
    "collapsed": true,
    "pycharm": {
     "name": "#%% md\n"
    }
   },
   "source": [
    "## Step 1. Fine-tune separate fastText models for each Video Metadata Type\n",
    "\n",
    "In this step, we will fine-tune four separate fastText models, one for each different video metadata type,\n",
    "which we use during the training of Deep Learning model to generate embeddings for each different video metadata type.\n",
    "This step is only required to run once.\n",
    "\n",
    "### 1.1. Video Snippet"
   ]
  },
  {
   "cell_type": "code",
   "execution_count": null,
   "metadata": {
    "collapsed": false,
    "pycharm": {
     "name": "#%%\n"
    }
   },
   "outputs": [],
   "source": [
    "# Generate Video Snippet fastText input features\n",
    "featureEngineeringModels.prepare_fasttext_data(model_type='video_snippet')\n"
   ]
  },
  {
   "cell_type": "code",
   "execution_count": null,
   "metadata": {},
   "outputs": [],
   "source": [
    "# Fine-tune a fastText model for Video Snippet\n",
    "featureEngineeringModels.finetune_model(model_type='video_snippet')"
   ]
  },
  {
   "cell_type": "markdown",
   "metadata": {
    "collapsed": false,
    "pycharm": {
     "name": "#%% md\n"
    }
   },
   "source": [
    "### 1.2. Video Tags"
   ]
  },
  {
   "cell_type": "code",
   "execution_count": null,
   "metadata": {
    "collapsed": false,
    "pycharm": {
     "name": "#%%\n"
    }
   },
   "outputs": [],
   "source": [
    "# Generate Video Tags fastText input features\n",
    "featureEngineeringModels.prepare_fasttext_data(model_type='video_tags')\n",
    "\n",
    "# Fine-tune a fastText model for Video Tags\n",
    "featureEngineeringModels.finetune_model(model_type='video_tags')"
   ]
  },
  {
   "cell_type": "markdown",
   "metadata": {
    "collapsed": false,
    "pycharm": {
     "name": "#%% md\n"
    }
   },
   "source": [
    "### 1.3. Video Transcript"
   ]
  },
  {
   "cell_type": "code",
   "execution_count": null,
   "metadata": {
    "collapsed": false,
    "pycharm": {
     "name": "#%%\n"
    }
   },
   "outputs": [],
   "source": [
    "# Generate Video Transcript fastText input features\n",
    "featureEngineeringModels.prepare_fasttext_data(model_type='video_transcript')\n",
    "\n",
    "# Fine-tune a fastText model for Video Transcript\n",
    "featureEngineeringModels.finetune_model(model_type='video_transcript')"
   ]
  },
  {
   "cell_type": "markdown",
   "metadata": {
    "collapsed": false,
    "pycharm": {
     "name": "#%% md\n"
    }
   },
   "source": [
    "### 1.4. Video Comments"
   ]
  },
  {
   "cell_type": "code",
   "execution_count": null,
   "metadata": {
    "collapsed": false,
    "pycharm": {
     "name": "#%%\n"
    }
   },
   "outputs": [],
   "source": [
    "# Generate Video Comments fastText input features\n",
    "featureEngineeringModels.prepare_fasttext_data(model_type='video_comments')\n",
    "\n",
    "# Fine-tune a fastText model for Video Comments\n",
    "featureEngineeringModels.finetune_model(model_type='video_comments')"
   ]
  },
  {
   "cell_type": "markdown",
   "metadata": {
    "collapsed": false,
    "pycharm": {
     "name": "#%% md\n"
    }
   },
   "source": [
    "## Step 2. Train the Pseudoscience Deep Learning Model\n",
    "\n",
    "At this step, we train and validate the Pseudoscientific Content Detection Deep Learning model using 10-fold cross-validation.\n",
    "At the end of the training, the best model will be stored in: ```pseudoscientificvideosdetection\\models\\pseudoscience_model_final.hdf5```.\n",
    "\n",
    "### 2.1. Create a Classifier Training Object\n",
    "\n",
    "The creation of this object automatically creates the deep learning model"
   ]
  },
  {
   "cell_type": "code",
   "execution_count": null,
   "metadata": {
    "collapsed": false,
    "pycharm": {
     "name": "#%%\n"
    }
   },
   "outputs": [],
   "source": [
    "# Create ClassifierTraining Object\n",
    "classifierTrainingObject = ClassifierTraining(dataset_object=dataset)"
   ]
  },
  {
   "cell_type": "markdown",
   "metadata": {
    "collapsed": false,
    "pycharm": {
     "name": "#%% md\n"
    }
   },
   "source": [
    "### 2.2. Train the Classifier"
   ]
  },
  {
   "cell_type": "code",
   "execution_count": null,
   "metadata": {
    "collapsed": false,
    "pycharm": {
     "name": "#%%\n"
    }
   },
   "outputs": [],
   "source": [
    "classifierTrainingObject.train_model()"
   ]
  }
 ],
 "metadata": {
  "kernelspec": {
   "display_name": "Python 3.8.5 ('virtualenv': venv)",
   "language": "python",
   "name": "python3"
  },
  "language_info": {
   "codemirror_mode": {
    "name": "ipython",
    "version": 3
   },
   "file_extension": ".py",
   "mimetype": "text/x-python",
   "name": "python",
   "nbconvert_exporter": "python",
   "pygments_lexer": "ipython3",
   "version": "3.8.5"
  },
  "vscode": {
   "interpreter": {
    "hash": "7e6bbca6b4c4401617a432cdd64c9a4f94bc5e14c8b012aa31c676a2ffb8ef21"
   }
  }
 },
 "nbformat": 4,
 "nbformat_minor": 0
}
