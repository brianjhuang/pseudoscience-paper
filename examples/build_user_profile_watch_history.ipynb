{
 "cells": [
  {
   "cell_type": "markdown",
   "metadata": {
    "collapsed": true,
    "pycharm": {
     "name": "#%% md\n"
    }
   },
   "source": [
    "# Example 3: Build User Profile Watch History"
   ]
  },
  {
   "cell_type": "code",
   "execution_count": null,
   "outputs": [],
   "source": [
    "from youtubeauditframework.userprofiles.BuildUserWatchHistory import BuildUserWatchHistory\n",
    "\n",
    "# Set the User Profile's nickname for which you want to build the Watch History\n",
    "user_profile = '<USER_PROFILE_NICKNAME>'"
   ],
   "metadata": {
    "collapsed": false,
    "pycharm": {
     "name": "#%%\n"
    }
   }
  },
  {
   "cell_type": "markdown",
   "source": [
    "### 1. Create an object of the helper class for building the User Profile's Watch History"
   ],
   "metadata": {
    "collapsed": false,
    "pycharm": {
     "name": "#%% md\n"
    }
   }
  },
  {
   "cell_type": "code",
   "execution_count": null,
   "outputs": [],
   "source": [
    "buildUserWatchHistoryHelper = BuildUserWatchHistory(user_profile=user_profile)"
   ],
   "metadata": {
    "collapsed": false,
    "pycharm": {
     "name": "#%%\n"
    }
   }
  },
  {
   "cell_type": "markdown",
   "source": [
    "### 2. Build the User's Watch History\n",
    "\n",
    "**OPTION 1:** Build the watch history of the user profile, but first create a file with the following naming convention\n",
    "```<USER_PROFILE_NICKNAME>_watch_history_videos.txt```, which includes all the YouTube Video IDs separated by breakline (Enter Key). Store this file inside the ```youtubeauditframework/userprofiles/info/``` directory."
   ],
   "metadata": {
    "collapsed": false,
    "pycharm": {
     "name": "#%% md\n"
    }
   }
  },
  {
   "cell_type": "code",
   "execution_count": null,
   "outputs": [],
   "source": [
    "# Start building the watch history of the user profile\n",
    "buildUserWatchHistoryHelper.build_watch_history()"
   ],
   "metadata": {
    "collapsed": false,
    "pycharm": {
     "name": "#%%\n"
    }
   }
  },
  {
   "cell_type": "markdown",
   "source": [
    "**Option 2:** Build the watch history of the user profile by providing a list of minimum 100 YouTube Video IDs."
   ],
   "metadata": {
    "collapsed": false,
    "pycharm": {
     "name": "#%% md\n"
    }
   }
  },
  {
   "cell_type": "code",
   "execution_count": null,
   "outputs": [],
   "source": [
    "# Create the list with the YouTube videos that the profile will use to build a watch history\n",
    "watch_history_videos = ['<VIDEO_ID>', '<VIDEO_ID>', '<VIDEO_ID>']\n",
    "\n",
    "# Start building the watch history of the user profile\n",
    "buildUserWatchHistoryHelper.build_watch_history(watch_videos_list=watch_history_videos)"
   ],
   "metadata": {
    "collapsed": false,
    "pycharm": {
     "name": "#%%\n"
    }
   }
  },
  {
   "cell_type": "markdown",
   "source": [
    "### 3. Ensure that the browser has closed"
   ],
   "metadata": {
    "collapsed": false,
    "pycharm": {
     "name": "#%% md\n"
    }
   }
  },
  {
   "cell_type": "code",
   "execution_count": null,
   "outputs": [],
   "source": [
    "buildUserWatchHistoryHelper.close_selenium_browser()"
   ],
   "metadata": {
    "collapsed": false,
    "pycharm": {
     "name": "#%%\n"
    }
   }
  }
 ],
 "metadata": {
  "kernelspec": {
   "display_name": "Python 2",
   "language": "python",
   "name": "python2"
  },
  "language_info": {
   "codemirror_mode": {
    "name": "ipython",
    "version": 2
   },
   "file_extension": ".py",
   "mimetype": "text/x-python",
   "name": "python",
   "nbconvert_exporter": "python",
   "pygments_lexer": "ipython2",
   "version": "2.7.6"
  }
 },
 "nbformat": 4,
 "nbformat_minor": 0
}